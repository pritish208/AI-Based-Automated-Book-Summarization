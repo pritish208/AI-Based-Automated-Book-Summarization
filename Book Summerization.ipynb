{
 "cells": [
  {
   "cell_type": "code",
   "execution_count": 1,
   "id": "a46a1905-6395-40a4-b69d-306feeabc7f6",
   "metadata": {},
   "outputs": [
    {
     "name": "stderr",
     "output_type": "stream",
     "text": [
      "[nltk_data] Error loading punkt: <urlopen error [Errno 11001]\n",
      "[nltk_data]     getaddrinfo failed>\n",
      "[nltk_data] Error loading punkt_tab: <urlopen error [Errno 11001]\n",
      "[nltk_data]     getaddrinfo failed>\n"
     ]
    },
    {
     "data": {
      "text/plain": [
       "False"
      ]
     },
     "execution_count": 1,
     "metadata": {},
     "output_type": "execute_result"
    }
   ],
   "source": [
    "from PyPDF2 import PdfReader\n",
    "from transformers import pipeline\n",
    "import ipywidgets as widgets\n",
    "from IPython.display import display, clear_output\n",
    "import nltk\n",
    "from nltk.tokenize import sent_tokenize\n",
    "import torch\n",
    "import os\n",
    "\n",
    "nltk.download('punkt', quiet=True)\n",
    "nltk.download('punkt_tab', quiet=True)"
   ]
  },
  {
   "cell_type": "code",
   "execution_count": 2,
   "id": "f1e33414-c89d-4c69-add4-1fa283ef0525",
   "metadata": {},
   "outputs": [
    {
     "data": {
      "application/vnd.jupyter.widget-view+json": {
       "model_id": "0a5ff3cc6b6e48268499858e06deef50",
       "version_major": 2,
       "version_minor": 0
      },
      "text/plain": [
       "VBox(children=(FileUpload(value=(), accept='.pdf', description='Upload PDF', layout=Layout(margin='20px', widt…"
      ]
     },
     "metadata": {},
     "output_type": "display_data"
    }
   ],
   "source": [
    "uploader = widgets.FileUpload(\n",
    "    accept='.pdf',\n",
    "    multiple=False,\n",
    "    description='Upload PDF',\n",
    "    layout=widgets.Layout(width='50%', margin='20px')\n",
    ")\n",
    "\n",
    "upload_status = widgets.Output()\n",
    "display(widgets.VBox([uploader, upload_status]))"
   ]
  },
  {
   "cell_type": "code",
   "execution_count": 3,
   "id": "7b24f213-fbf3-4c8c-bcae-24aaa8da1fd3",
   "metadata": {},
   "outputs": [],
   "source": [
    "def extract_text_from_pdf(uploaded_file):\n",
    "    try:\n",
    "        pdf_reader = PdfReader(uploaded_file)\n",
    "        text = \"\"\n",
    "        for page in pdf_reader.pages:\n",
    "            page_text = page.extract_text()\n",
    "            text += page_text if page_text else ''\n",
    "        return text\n",
    "    except Exception as e:\n",
    "        print(f\"Text extraction error: {str(e)}\")\n",
    "        return \"\""
   ]
  },
  {
   "cell_type": "code",
   "execution_count": 4,
   "id": "99bc6cca-090d-4482-8702-7ee1000682b9",
   "metadata": {},
   "outputs": [],
   "source": [
    "def chunk_text(text, max_chunk_size=512, overlap=100):\n",
    "    if not text.strip():\n",
    "        return []\n",
    "    \n",
    "    sentences = sent_tokenize(text)\n",
    "    chunks = []\n",
    "    current_chunk = []\n",
    "    current_length = 0\n",
    "    \n",
    "    for sentence in sentences:\n",
    "        words = sentence.split()\n",
    "        if current_length + len(words) > max_chunk_size and current_chunk:\n",
    "            chunks.append(' '.join(current_chunk))\n",
    "            current_chunk = current_chunk[-overlap:] if overlap else []\n",
    "            current_length = sum(len(s.split()) for s in current_chunk)\n",
    "        current_chunk.append(sentence)\n",
    "        current_length += len(words)\n",
    "    \n",
    "    if current_chunk:\n",
    "        chunks.append(' '.join(current_chunk))\n",
    "    \n",
    "    return [chunk for chunk in chunks if len(chunk.split()) > 20]"
   ]
  },
  {
   "cell_type": "code",
   "execution_count": 5,
   "id": "409b66fe-3951-4a61-91a3-c064d1d1e21a",
   "metadata": {},
   "outputs": [
    {
     "name": "stderr",
     "output_type": "stream",
     "text": [
      "C:\\Users\\prabh\\AppData\\Local\\Programs\\Python\\Python312\\Lib\\site-packages\\huggingface_hub\\file_download.py:896: FutureWarning: `resume_download` is deprecated and will be removed in version 1.0.0. Downloads always resume when possible. If you want to force a new download, use `force_download=True`.\n",
      "  warnings.warn(\n"
     ]
    }
   ],
   "source": [
    "summarizer = pipeline(\n",
    "    \"summarization\",\n",
    "    model=\"facebook/bart-large-cnn\",\n",
    "    device=0 if torch.cuda.is_available() else -1\n",
    ")"
   ]
  },
  {
   "cell_type": "code",
   "execution_count": 6,
   "id": "f09985a8-f703-4637-bfa6-6a5a727f7b27",
   "metadata": {},
   "outputs": [],
   "source": [
    "def generate_summary(contents):\n",
    "    try:\n",
    "        text = extract_text_from_pdf(contents)\n",
    "        if not text or len(text.split()) < 50:\n",
    "            return \"Error: Document too short (needs 50+ words)\"\n",
    "        \n",
    "        chunks = chunk_text(text)\n",
    "        if not chunks:\n",
    "            return \"Error: No valid text chunks created\"\n",
    "        \n",
    "        chunk_summaries = []\n",
    "        for chunk in chunks:\n",
    "            word_count = len(chunk.split())\n",
    "            try:\n",
    "                # Dynamic length calculation\n",
    "                max_len = min(150, max(30, word_count//2))  # Ensures max >= 30\n",
    "                min_len = min(30, max_len-1)  # Ensures min < max\n",
    "                \n",
    "                result = summarizer(\n",
    "                    chunk,\n",
    "                    max_length=max_len,\n",
    "                    min_length=min_len,\n",
    "                    do_sample=False,\n",
    "                    truncation=True\n",
    "                )\n",
    "                if result:\n",
    "                    chunk_summaries.append(result[0]['summary_text'])\n",
    "            except Exception as e:\n",
    "                print(f\"Chunk skipped: {str(e)}\")\n",
    "                continue\n",
    "        \n",
    "        if not chunk_summaries:\n",
    "            return \"Error: No valid summaries generated\"\n",
    "        \n",
    "        combined_summary = ' '.join(chunk_summaries)\n",
    "        combined_word_count = len(combined_summary.split())\n",
    "        \n",
    "        # Final summary length calculation\n",
    "        final_max = min(300, max(50, combined_word_count//2))\n",
    "        final_min = min(50, final_max-1)\n",
    "        \n",
    "        final_result = summarizer(\n",
    "            combined_summary,\n",
    "            max_length=final_max,\n",
    "            min_length=final_min,\n",
    "            do_sample=False,\n",
    "            truncation=True\n",
    "        )\n",
    "        \n",
    "        return final_result[0]['summary_text'] if final_result else \"Summary generation failed\"\n",
    "    \n",
    "    except Exception as e:\n",
    "        return f\"Processing error: {str(e)}\""
   ]
  },
  {
   "cell_type": "code",
   "execution_count": 7,
   "id": "d9ffa537-199b-4dfd-943e-b9c88d3dadd4",
   "metadata": {},
   "outputs": [],
   "source": [
    "def handle_upload(change):\n",
    "    with upload_status:\n",
    "        clear_output()\n",
    "        \n",
    "        if uploader.value:\n",
    "            try:\n",
    "                file_info = uploader.value[0]\n",
    "                file_name = file_info['name']\n",
    "                content = file_info['content']\n",
    "                \n",
    "                with open(file_name, 'wb') as f:\n",
    "                    f.write(content)\n",
    "                \n",
    "                print(\"🔄 Processing document...\")\n",
    "                summary = generate_summary(file_name)\n",
    "                \n",
    "                print(\"\\n✅ SUMMARY:\")\n",
    "                print(\"-\" * 50)\n",
    "                print(summary)\n",
    "                print(\"-\" * 50)\n",
    "                \n",
    "                if os.path.exists(file_name):\n",
    "                    os.remove(file_name)\n",
    "                    \n",
    "            except Exception as e:\n",
    "                print(\"\\n❌ PROCESSING FAILED:\")\n",
    "                print(\"-\" * 50)\n",
    "                print(f\"Error: {str(e)}\")\n",
    "                print(\"-\" * 50)\n",
    "                print(\"Please check:\")\n",
    "                print(\"1. PDF has selectable text (not scanned)\")\n",
    "                print(\"2. Document has sufficient content (2+ pages)\")\n",
    "                print(\"3. File isn't password protected\")\n",
    "\n",
    "uploader.observe(handle_upload, names='value')"
   ]
  },
  {
   "cell_type": "code",
   "execution_count": null,
   "id": "5e3a863d-09b3-4118-a1e7-14989e841ca5",
   "metadata": {},
   "outputs": [],
   "source": []
  },
  {
   "cell_type": "code",
   "execution_count": null,
   "id": "0754fa20-0a4c-4378-aab3-f23c5fb16a82",
   "metadata": {},
   "outputs": [],
   "source": []
  },
  {
   "cell_type": "code",
   "execution_count": null,
   "id": "d30a2bc8-e6fa-4b84-9baa-d5bfea1271f3",
   "metadata": {},
   "outputs": [],
   "source": []
  },
  {
   "cell_type": "code",
   "execution_count": null,
   "id": "57501596-1b7b-4102-9203-1aca3efa642d",
   "metadata": {},
   "outputs": [],
   "source": []
  }
 ],
 "metadata": {
  "kernelspec": {
   "display_name": "Python 3 (ipykernel)",
   "language": "python",
   "name": "python3"
  },
  "language_info": {
   "codemirror_mode": {
    "name": "ipython",
    "version": 3
   },
   "file_extension": ".py",
   "mimetype": "text/x-python",
   "name": "python",
   "nbconvert_exporter": "python",
   "pygments_lexer": "ipython3",
   "version": "3.12.5"
  }
 },
 "nbformat": 4,
 "nbformat_minor": 5
}
